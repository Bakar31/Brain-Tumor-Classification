{
 "cells": [
  {
   "cell_type": "code",
   "execution_count": 1,
   "id": "f9b3b6b9",
   "metadata": {
    "_cell_guid": "b1076dfc-b9ad-4769-8c92-a6c4dae69d19",
    "_uuid": "8f2839f25d086af736a60e9eeb907d3b93b6e0e5",
    "execution": {
     "iopub.execute_input": "2021-10-20T08:01:52.219246Z",
     "iopub.status.busy": "2021-10-20T08:01:52.217380Z",
     "iopub.status.idle": "2021-10-20T08:01:57.087909Z",
     "shell.execute_reply": "2021-10-20T08:01:57.088415Z",
     "shell.execute_reply.started": "2021-10-20T07:47:54.616232Z"
    },
    "papermill": {
     "duration": 4.902841,
     "end_time": "2021-10-20T08:01:57.088710",
     "exception": false,
     "start_time": "2021-10-20T08:01:52.185869",
     "status": "completed"
    },
    "tags": []
   },
   "outputs": [],
   "source": [
    "# required libraries\n",
    "import numpy as np\n",
    "import pandas as pd\n",
    "import os\n",
    "import pydicom\n",
    "import cv2\n",
    "import matplotlib.pyplot as plt\n",
    "\n",
    "import tensorflow as tf\n",
    "from tensorflow.keras.preprocessing.image import ImageDataGenerator\n",
    "from keras_preprocessing.image.dataframe_iterator import DataFrameIterator\n",
    "from tensorflow.keras.layers import GlobalAveragePooling2D, BatchNormalization, Dense, Dropout, Flatten, Conv2D, MaxPooling2D\n",
    "from tensorflow.keras.models import Model\n",
    "from tensorflow.keras.applications import EfficientNetB0, EfficientNetB1, EfficientNetB2, EfficientNetB3\n",
    "from tensorflow.keras.optimizers import Adam\n",
    "from tensorflow.keras.callbacks import ModelCheckpoint, LearningRateScheduler, EarlyStopping"
   ]
  },
  {
   "cell_type": "code",
   "execution_count": 2,
   "id": "f1587445",
   "metadata": {
    "execution": {
     "iopub.execute_input": "2021-10-20T08:01:57.143976Z",
     "iopub.status.busy": "2021-10-20T08:01:57.143159Z",
     "iopub.status.idle": "2021-10-20T08:01:57.168150Z",
     "shell.execute_reply": "2021-10-20T08:01:57.167536Z",
     "shell.execute_reply.started": "2021-10-20T07:41:28.187172Z"
    },
    "papermill": {
     "duration": 0.05214,
     "end_time": "2021-10-20T08:01:57.168258",
     "exception": false,
     "start_time": "2021-10-20T08:01:57.116118",
     "status": "completed"
    },
    "tags": []
   },
   "outputs": [],
   "source": [
    "root_dir = '../input/rsna-miccai-brain-tumor-radiogenomic-classification/'\n",
    "df = pd.read_csv(root_dir+'train_labels.csv')\n",
    "df_test = pd.read_csv(root_dir+'sample_submission.csv')"
   ]
  },
  {
   "cell_type": "code",
   "execution_count": 3,
   "id": "16d6354d",
   "metadata": {
    "execution": {
     "iopub.execute_input": "2021-10-20T08:01:57.247791Z",
     "iopub.status.busy": "2021-10-20T08:01:57.247239Z",
     "iopub.status.idle": "2021-10-20T08:01:57.250320Z",
     "shell.execute_reply": "2021-10-20T08:01:57.250733Z",
     "shell.execute_reply.started": "2021-10-20T07:41:37.376071Z"
    },
    "papermill": {
     "duration": 0.057497,
     "end_time": "2021-10-20T08:01:57.250869",
     "exception": false,
     "start_time": "2021-10-20T08:01:57.193372",
     "status": "completed"
    },
    "tags": []
   },
   "outputs": [],
   "source": [
    "# full paths for each id for different types of sequences\n",
    "def full_ids(data):\n",
    "    zeros = 5 - len(str(data))\n",
    "    if zeros > 0:\n",
    "        prefix = ''.join(['0' for i in range(zeros)])\n",
    "    \n",
    "    return prefix+str(data)\n",
    "        \n",
    "\n",
    "df['BraTS21ID_full'] = df['BraTS21ID'].apply(full_ids)\n",
    "df_test['BraTS21ID_full'] = df_test['BraTS21ID'].apply(full_ids)\n",
    "\n",
    "# adding all the paths to the train df for easy access\n",
    "df['flair'] = df['BraTS21ID_full'].apply(lambda file_id : root_dir+'train/'+file_id+'/FLAIR/')\n",
    "df['t1w'] = df['BraTS21ID_full'].apply(lambda file_id : root_dir+'train/'+file_id+'/T1w/')\n",
    "df['t1wce'] = df['BraTS21ID_full'].apply(lambda file_id : root_dir+'train/'+file_id+'/T1wCE/')\n",
    "df['t2w'] = df['BraTS21ID_full'].apply(lambda file_id : root_dir+'train/'+file_id+'/T2w/')\n",
    "\n",
    "\n",
    "# adding all the paths to the test df for easy access\n",
    "df_test['flair'] = df_test['BraTS21ID_full'].apply(lambda file_id : root_dir+'test/'+file_id+'/FLAIR/')\n",
    "df_test['t1w'] = df_test['BraTS21ID_full'].apply(lambda file_id : root_dir+'test/'+file_id+'/T1w/')\n",
    "df_test['t1wce'] = df_test['BraTS21ID_full'].apply(lambda file_id : root_dir+'test/'+file_id+'/T1wCE/')\n",
    "df_test['t2w'] = df_test['BraTS21ID_full'].apply(lambda file_id : root_dir+'test/'+file_id+'/T2w/')"
   ]
  },
  {
   "cell_type": "code",
   "execution_count": 4,
   "id": "81391ed0",
   "metadata": {
    "execution": {
     "iopub.execute_input": "2021-10-20T08:01:57.307769Z",
     "iopub.status.busy": "2021-10-20T08:01:57.307085Z",
     "iopub.status.idle": "2021-10-20T08:01:57.319771Z",
     "shell.execute_reply": "2021-10-20T08:01:57.320193Z",
     "shell.execute_reply.started": "2021-10-20T07:43:23.928089Z"
    },
    "papermill": {
     "duration": 0.04437,
     "end_time": "2021-10-20T08:01:57.320321",
     "exception": false,
     "start_time": "2021-10-20T08:01:57.275951",
     "status": "completed"
    },
    "tags": []
   },
   "outputs": [
    {
     "data": {
      "text/html": [
       "<div>\n",
       "<style scoped>\n",
       "    .dataframe tbody tr th:only-of-type {\n",
       "        vertical-align: middle;\n",
       "    }\n",
       "\n",
       "    .dataframe tbody tr th {\n",
       "        vertical-align: top;\n",
       "    }\n",
       "\n",
       "    .dataframe thead th {\n",
       "        text-align: right;\n",
       "    }\n",
       "</style>\n",
       "<table border=\"1\" class=\"dataframe\">\n",
       "  <thead>\n",
       "    <tr style=\"text-align: right;\">\n",
       "      <th></th>\n",
       "      <th>BraTS21ID</th>\n",
       "      <th>MGMT_value</th>\n",
       "      <th>BraTS21ID_full</th>\n",
       "      <th>flair</th>\n",
       "      <th>t1w</th>\n",
       "      <th>t1wce</th>\n",
       "      <th>t2w</th>\n",
       "    </tr>\n",
       "  </thead>\n",
       "  <tbody>\n",
       "    <tr>\n",
       "      <th>0</th>\n",
       "      <td>0</td>\n",
       "      <td>1</td>\n",
       "      <td>00000</td>\n",
       "      <td>../input/rsna-miccai-brain-tumor-radiogenomic-...</td>\n",
       "      <td>../input/rsna-miccai-brain-tumor-radiogenomic-...</td>\n",
       "      <td>../input/rsna-miccai-brain-tumor-radiogenomic-...</td>\n",
       "      <td>../input/rsna-miccai-brain-tumor-radiogenomic-...</td>\n",
       "    </tr>\n",
       "    <tr>\n",
       "      <th>1</th>\n",
       "      <td>2</td>\n",
       "      <td>1</td>\n",
       "      <td>00002</td>\n",
       "      <td>../input/rsna-miccai-brain-tumor-radiogenomic-...</td>\n",
       "      <td>../input/rsna-miccai-brain-tumor-radiogenomic-...</td>\n",
       "      <td>../input/rsna-miccai-brain-tumor-radiogenomic-...</td>\n",
       "      <td>../input/rsna-miccai-brain-tumor-radiogenomic-...</td>\n",
       "    </tr>\n",
       "    <tr>\n",
       "      <th>2</th>\n",
       "      <td>3</td>\n",
       "      <td>0</td>\n",
       "      <td>00003</td>\n",
       "      <td>../input/rsna-miccai-brain-tumor-radiogenomic-...</td>\n",
       "      <td>../input/rsna-miccai-brain-tumor-radiogenomic-...</td>\n",
       "      <td>../input/rsna-miccai-brain-tumor-radiogenomic-...</td>\n",
       "      <td>../input/rsna-miccai-brain-tumor-radiogenomic-...</td>\n",
       "    </tr>\n",
       "    <tr>\n",
       "      <th>3</th>\n",
       "      <td>5</td>\n",
       "      <td>1</td>\n",
       "      <td>00005</td>\n",
       "      <td>../input/rsna-miccai-brain-tumor-radiogenomic-...</td>\n",
       "      <td>../input/rsna-miccai-brain-tumor-radiogenomic-...</td>\n",
       "      <td>../input/rsna-miccai-brain-tumor-radiogenomic-...</td>\n",
       "      <td>../input/rsna-miccai-brain-tumor-radiogenomic-...</td>\n",
       "    </tr>\n",
       "    <tr>\n",
       "      <th>4</th>\n",
       "      <td>6</td>\n",
       "      <td>1</td>\n",
       "      <td>00006</td>\n",
       "      <td>../input/rsna-miccai-brain-tumor-radiogenomic-...</td>\n",
       "      <td>../input/rsna-miccai-brain-tumor-radiogenomic-...</td>\n",
       "      <td>../input/rsna-miccai-brain-tumor-radiogenomic-...</td>\n",
       "      <td>../input/rsna-miccai-brain-tumor-radiogenomic-...</td>\n",
       "    </tr>\n",
       "  </tbody>\n",
       "</table>\n",
       "</div>"
      ],
      "text/plain": [
       "   BraTS21ID  MGMT_value BraTS21ID_full  \\\n",
       "0          0           1          00000   \n",
       "1          2           1          00002   \n",
       "2          3           0          00003   \n",
       "3          5           1          00005   \n",
       "4          6           1          00006   \n",
       "\n",
       "                                               flair  \\\n",
       "0  ../input/rsna-miccai-brain-tumor-radiogenomic-...   \n",
       "1  ../input/rsna-miccai-brain-tumor-radiogenomic-...   \n",
       "2  ../input/rsna-miccai-brain-tumor-radiogenomic-...   \n",
       "3  ../input/rsna-miccai-brain-tumor-radiogenomic-...   \n",
       "4  ../input/rsna-miccai-brain-tumor-radiogenomic-...   \n",
       "\n",
       "                                                 t1w  \\\n",
       "0  ../input/rsna-miccai-brain-tumor-radiogenomic-...   \n",
       "1  ../input/rsna-miccai-brain-tumor-radiogenomic-...   \n",
       "2  ../input/rsna-miccai-brain-tumor-radiogenomic-...   \n",
       "3  ../input/rsna-miccai-brain-tumor-radiogenomic-...   \n",
       "4  ../input/rsna-miccai-brain-tumor-radiogenomic-...   \n",
       "\n",
       "                                               t1wce  \\\n",
       "0  ../input/rsna-miccai-brain-tumor-radiogenomic-...   \n",
       "1  ../input/rsna-miccai-brain-tumor-radiogenomic-...   \n",
       "2  ../input/rsna-miccai-brain-tumor-radiogenomic-...   \n",
       "3  ../input/rsna-miccai-brain-tumor-radiogenomic-...   \n",
       "4  ../input/rsna-miccai-brain-tumor-radiogenomic-...   \n",
       "\n",
       "                                                 t2w  \n",
       "0  ../input/rsna-miccai-brain-tumor-radiogenomic-...  \n",
       "1  ../input/rsna-miccai-brain-tumor-radiogenomic-...  \n",
       "2  ../input/rsna-miccai-brain-tumor-radiogenomic-...  \n",
       "3  ../input/rsna-miccai-brain-tumor-radiogenomic-...  \n",
       "4  ../input/rsna-miccai-brain-tumor-radiogenomic-...  "
      ]
     },
     "execution_count": 4,
     "metadata": {},
     "output_type": "execute_result"
    }
   ],
   "source": [
    "df.head()"
   ]
  },
  {
   "cell_type": "code",
   "execution_count": 5,
   "id": "1fa66797",
   "metadata": {
    "execution": {
     "iopub.execute_input": "2021-10-20T08:01:57.385265Z",
     "iopub.status.busy": "2021-10-20T08:01:57.377645Z",
     "iopub.status.idle": "2021-10-20T08:01:57.388060Z",
     "shell.execute_reply": "2021-10-20T08:01:57.388544Z",
     "shell.execute_reply.started": "2021-10-20T07:43:26.912161Z"
    },
    "papermill": {
     "duration": 0.041543,
     "end_time": "2021-10-20T08:01:57.388705",
     "exception": false,
     "start_time": "2021-10-20T08:01:57.347162",
     "status": "completed"
    },
    "tags": []
   },
   "outputs": [
    {
     "data": {
      "text/html": [
       "<div>\n",
       "<style scoped>\n",
       "    .dataframe tbody tr th:only-of-type {\n",
       "        vertical-align: middle;\n",
       "    }\n",
       "\n",
       "    .dataframe tbody tr th {\n",
       "        vertical-align: top;\n",
       "    }\n",
       "\n",
       "    .dataframe thead th {\n",
       "        text-align: right;\n",
       "    }\n",
       "</style>\n",
       "<table border=\"1\" class=\"dataframe\">\n",
       "  <thead>\n",
       "    <tr style=\"text-align: right;\">\n",
       "      <th></th>\n",
       "      <th>BraTS21ID</th>\n",
       "      <th>MGMT_value</th>\n",
       "      <th>BraTS21ID_full</th>\n",
       "      <th>flair</th>\n",
       "      <th>t1w</th>\n",
       "      <th>t1wce</th>\n",
       "      <th>t2w</th>\n",
       "    </tr>\n",
       "  </thead>\n",
       "  <tbody>\n",
       "    <tr>\n",
       "      <th>0</th>\n",
       "      <td>1</td>\n",
       "      <td>0.5</td>\n",
       "      <td>00001</td>\n",
       "      <td>../input/rsna-miccai-brain-tumor-radiogenomic-...</td>\n",
       "      <td>../input/rsna-miccai-brain-tumor-radiogenomic-...</td>\n",
       "      <td>../input/rsna-miccai-brain-tumor-radiogenomic-...</td>\n",
       "      <td>../input/rsna-miccai-brain-tumor-radiogenomic-...</td>\n",
       "    </tr>\n",
       "    <tr>\n",
       "      <th>1</th>\n",
       "      <td>13</td>\n",
       "      <td>0.5</td>\n",
       "      <td>00013</td>\n",
       "      <td>../input/rsna-miccai-brain-tumor-radiogenomic-...</td>\n",
       "      <td>../input/rsna-miccai-brain-tumor-radiogenomic-...</td>\n",
       "      <td>../input/rsna-miccai-brain-tumor-radiogenomic-...</td>\n",
       "      <td>../input/rsna-miccai-brain-tumor-radiogenomic-...</td>\n",
       "    </tr>\n",
       "    <tr>\n",
       "      <th>2</th>\n",
       "      <td>15</td>\n",
       "      <td>0.5</td>\n",
       "      <td>00015</td>\n",
       "      <td>../input/rsna-miccai-brain-tumor-radiogenomic-...</td>\n",
       "      <td>../input/rsna-miccai-brain-tumor-radiogenomic-...</td>\n",
       "      <td>../input/rsna-miccai-brain-tumor-radiogenomic-...</td>\n",
       "      <td>../input/rsna-miccai-brain-tumor-radiogenomic-...</td>\n",
       "    </tr>\n",
       "    <tr>\n",
       "      <th>3</th>\n",
       "      <td>27</td>\n",
       "      <td>0.5</td>\n",
       "      <td>00027</td>\n",
       "      <td>../input/rsna-miccai-brain-tumor-radiogenomic-...</td>\n",
       "      <td>../input/rsna-miccai-brain-tumor-radiogenomic-...</td>\n",
       "      <td>../input/rsna-miccai-brain-tumor-radiogenomic-...</td>\n",
       "      <td>../input/rsna-miccai-brain-tumor-radiogenomic-...</td>\n",
       "    </tr>\n",
       "    <tr>\n",
       "      <th>4</th>\n",
       "      <td>37</td>\n",
       "      <td>0.5</td>\n",
       "      <td>00037</td>\n",
       "      <td>../input/rsna-miccai-brain-tumor-radiogenomic-...</td>\n",
       "      <td>../input/rsna-miccai-brain-tumor-radiogenomic-...</td>\n",
       "      <td>../input/rsna-miccai-brain-tumor-radiogenomic-...</td>\n",
       "      <td>../input/rsna-miccai-brain-tumor-radiogenomic-...</td>\n",
       "    </tr>\n",
       "  </tbody>\n",
       "</table>\n",
       "</div>"
      ],
      "text/plain": [
       "   BraTS21ID  MGMT_value BraTS21ID_full  \\\n",
       "0          1         0.5          00001   \n",
       "1         13         0.5          00013   \n",
       "2         15         0.5          00015   \n",
       "3         27         0.5          00027   \n",
       "4         37         0.5          00037   \n",
       "\n",
       "                                               flair  \\\n",
       "0  ../input/rsna-miccai-brain-tumor-radiogenomic-...   \n",
       "1  ../input/rsna-miccai-brain-tumor-radiogenomic-...   \n",
       "2  ../input/rsna-miccai-brain-tumor-radiogenomic-...   \n",
       "3  ../input/rsna-miccai-brain-tumor-radiogenomic-...   \n",
       "4  ../input/rsna-miccai-brain-tumor-radiogenomic-...   \n",
       "\n",
       "                                                 t1w  \\\n",
       "0  ../input/rsna-miccai-brain-tumor-radiogenomic-...   \n",
       "1  ../input/rsna-miccai-brain-tumor-radiogenomic-...   \n",
       "2  ../input/rsna-miccai-brain-tumor-radiogenomic-...   \n",
       "3  ../input/rsna-miccai-brain-tumor-radiogenomic-...   \n",
       "4  ../input/rsna-miccai-brain-tumor-radiogenomic-...   \n",
       "\n",
       "                                               t1wce  \\\n",
       "0  ../input/rsna-miccai-brain-tumor-radiogenomic-...   \n",
       "1  ../input/rsna-miccai-brain-tumor-radiogenomic-...   \n",
       "2  ../input/rsna-miccai-brain-tumor-radiogenomic-...   \n",
       "3  ../input/rsna-miccai-brain-tumor-radiogenomic-...   \n",
       "4  ../input/rsna-miccai-brain-tumor-radiogenomic-...   \n",
       "\n",
       "                                                 t2w  \n",
       "0  ../input/rsna-miccai-brain-tumor-radiogenomic-...  \n",
       "1  ../input/rsna-miccai-brain-tumor-radiogenomic-...  \n",
       "2  ../input/rsna-miccai-brain-tumor-radiogenomic-...  \n",
       "3  ../input/rsna-miccai-brain-tumor-radiogenomic-...  \n",
       "4  ../input/rsna-miccai-brain-tumor-radiogenomic-...  "
      ]
     },
     "execution_count": 5,
     "metadata": {},
     "output_type": "execute_result"
    }
   ],
   "source": [
    "df_test.head()"
   ]
  },
  {
   "cell_type": "markdown",
   "id": "5d6f81f1",
   "metadata": {
    "papermill": {
     "duration": 0.026042,
     "end_time": "2021-10-20T08:01:57.442128",
     "exception": false,
     "start_time": "2021-10-20T08:01:57.416086",
     "status": "completed"
    },
    "tags": []
   },
   "source": [
    "# Load images"
   ]
  },
  {
   "cell_type": "code",
   "execution_count": 6,
   "id": "b51463f5",
   "metadata": {
    "execution": {
     "iopub.execute_input": "2021-10-20T08:01:57.509079Z",
     "iopub.status.busy": "2021-10-20T08:01:57.506412Z",
     "iopub.status.idle": "2021-10-20T08:01:57.511524Z",
     "shell.execute_reply": "2021-10-20T08:01:57.511131Z",
     "shell.execute_reply.started": "2021-10-20T07:45:49.812685Z"
    },
    "papermill": {
     "duration": 0.043579,
     "end_time": "2021-10-20T08:01:57.511662",
     "exception": false,
     "start_time": "2021-10-20T08:01:57.468083",
     "status": "completed"
    },
    "tags": []
   },
   "outputs": [],
   "source": [
    "def get_train_val_dataframe(mri_type):\n",
    "    all_img_files = []\n",
    "    all_img_labels = []\n",
    "    all_img_patient_ids = []\n",
    "    for row in df.iterrows():\n",
    "        # 00109 (FLAIR images are blank), 00123 (T1w images are blank), 00709 (FLAIR images are blank)\n",
    "        if row[1]['BraTS21ID_full'] == '00109' and mri_type == 'flair':\n",
    "            continue\n",
    "        if row[1]['BraTS21ID_full'] == '00123' and mri_type == 't1w':\n",
    "            continue\n",
    "        if row[1]['BraTS21ID_full'] == '00709' and mri_type == 'flair':\n",
    "            continue\n",
    "        img_dir = row[1][mri_type]\n",
    "        img_files = os.listdir(img_dir)\n",
    "        img_nums = sorted([int(ele.replace('Image-', '').replace('.dcm', '')) for ele in img_files])\n",
    "        mid_point = int(len(img_nums)/2)\n",
    "        start_point = mid_point - max(int(mid_point*0.1), 1)\n",
    "        end_point = mid_point + max(int(mid_point*0.1), 1)\n",
    "        img_names = [f'Image-{img_nums[i]}.dcm' for i in range(start_point, end_point+1)]\n",
    "        img_paths = [img_dir+ele for ele in img_names]\n",
    "        img_labels = [row[1]['MGMT_value']]*len(img_paths)\n",
    "        img_patient_ids = [row[1]['BraTS21ID']]*len(img_paths)\n",
    "        all_img_files.extend(img_paths)\n",
    "        all_img_labels.extend(img_labels)\n",
    "        all_img_patient_ids.extend(img_patient_ids)\n",
    "\n",
    "    train_val_df = pd.DataFrame({'patient_ids': all_img_patient_ids,\n",
    "                  'labels': all_img_labels,\n",
    "                  'file_paths': all_img_files})\n",
    "\n",
    "    train_val_df['labels'] = train_val_df['labels'].map({1: '1', 0: '0'})\n",
    "    \n",
    "    return train_val_df\n",
    "    \n",
    "def get_test_dataframe(mri_type):\n",
    "    all_test_img_files = []\n",
    "    all_test_img_labels = []\n",
    "    all_test_img_patient_ids = []\n",
    "    for row in df_test.iterrows():\n",
    "        img_dir = row[1][mri_type]\n",
    "        img_files = os.listdir(img_dir)\n",
    "        img_nums = sorted([int(ele.replace('Image-', '').replace('.dcm', '')) for ele in img_files])\n",
    "        mid_point = int(len(img_nums)/2)\n",
    "        start_point = mid_point - max(int(mid_point*0.1), 1)\n",
    "        end_point = mid_point + max(int(mid_point*0.1), 1)\n",
    "        img_names = [f'Image-{img_nums[i]}.dcm' for i in range(start_point, end_point+1)]\n",
    "        img_paths = [img_dir+ele for ele in img_names]\n",
    "        img_labels = [row[1]['MGMT_value']]*len(img_paths)\n",
    "        img_patient_ids = [row[1]['BraTS21ID']]*len(img_paths)\n",
    "        all_test_img_files.extend(img_paths)\n",
    "        all_test_img_labels.extend(img_labels)\n",
    "        all_test_img_patient_ids.extend(img_patient_ids)\n",
    "\n",
    "    test_df = pd.DataFrame({'patient_ids': all_test_img_patient_ids,\n",
    "                  'labels': all_test_img_labels,\n",
    "                  'file_paths': all_test_img_files})\n",
    "    \n",
    "    test_df['labels'] = ['1']*(len(test_df)-1) + ['0'] # workaround for testing data gen\n",
    "    \n",
    "    return test_df"
   ]
  },
  {
   "cell_type": "code",
   "execution_count": 7,
   "id": "212ddbc5",
   "metadata": {
    "execution": {
     "iopub.execute_input": "2021-10-20T08:01:57.574260Z",
     "iopub.status.busy": "2021-10-20T08:01:57.573457Z",
     "iopub.status.idle": "2021-10-20T08:01:57.575908Z",
     "shell.execute_reply": "2021-10-20T08:01:57.575449Z",
     "shell.execute_reply.started": "2021-10-20T07:46:59.889073Z"
    },
    "papermill": {
     "duration": 0.038523,
     "end_time": "2021-10-20T08:01:57.576016",
     "exception": false,
     "start_time": "2021-10-20T08:01:57.537493",
     "status": "completed"
    },
    "tags": []
   },
   "outputs": [],
   "source": [
    "class DCMDataFrameIterator(DataFrameIterator):\n",
    "    def __init__(self, *arg, **kwargs):\n",
    "        self.white_list_formats = ('dcm')\n",
    "        super(DCMDataFrameIterator, self).__init__(*arg, **kwargs)\n",
    "        self.dataframe = kwargs['dataframe']\n",
    "        self.x = self.dataframe[kwargs['x_col']]\n",
    "        self.y = self.dataframe[kwargs['y_col']]\n",
    "        self.color_mode = kwargs['color_mode']\n",
    "        self.target_size = kwargs['target_size']\n",
    "\n",
    "    def _get_batches_of_transformed_samples(self, indices_array):\n",
    "        # get batch of images\n",
    "        batch_x = np.array([self.read_dcm_as_array(dcm_path, self.target_size, color_mode=self.color_mode)\n",
    "                            for dcm_path in self.x.iloc[indices_array]])\n",
    "\n",
    "        batch_y = np.array(self.y.iloc[indices_array].astype(np.uint8))  # astype because y was passed as str\n",
    "\n",
    "        # transform images\n",
    "        if self.image_data_generator is not None:\n",
    "            for i, (x, y) in enumerate(zip(batch_x, batch_y)):\n",
    "                transform_params = self.image_data_generator.get_random_transform(x.shape)\n",
    "                batch_x[i] = self.image_data_generator.apply_transform(x, transform_params)\n",
    "\n",
    "        return batch_x, batch_y\n",
    "\n",
    "    @staticmethod\n",
    "    def read_dcm_as_array(dcm_path, target_size=(224, 224), color_mode='rgb'):\n",
    "        image_array = pydicom.dcmread(dcm_path).pixel_array\n",
    "        pixels = image_array - np.min(image_array)\n",
    "        pixels = pixels / np.max(pixels)\n",
    "        image_manual_norm = (pixels * 255).astype(np.uint8)\n",
    "        image_array = cv2.resize(image_manual_norm, target_size, interpolation=cv2.INTER_NEAREST)\n",
    "        if color_mode == 'rgb':\n",
    "            image_array = np.dstack((image_array, np.zeros_like(image_array), np.zeros_like(image_array)))\n",
    "        return image_array"
   ]
  },
  {
   "cell_type": "code",
   "execution_count": 8,
   "id": "43c5df89",
   "metadata": {
    "execution": {
     "iopub.execute_input": "2021-10-20T08:01:57.632292Z",
     "iopub.status.busy": "2021-10-20T08:01:57.631544Z",
     "iopub.status.idle": "2021-10-20T08:01:57.633513Z",
     "shell.execute_reply": "2021-10-20T08:01:57.633910Z",
     "shell.execute_reply.started": "2021-10-20T07:47:12.958928Z"
    },
    "papermill": {
     "duration": 0.031464,
     "end_time": "2021-10-20T08:01:57.634029",
     "exception": false,
     "start_time": "2021-10-20T08:01:57.602565",
     "status": "completed"
    },
    "tags": []
   },
   "outputs": [],
   "source": [
    "# constants\n",
    "SEED = 369\n",
    "BATCH_SIZE = 512\n",
    "CLASS_MODE = 'binary'\n",
    "COLOR_MODE = 'rgb'\n",
    "TARGET_SIZE = (224, 224)"
   ]
  },
  {
   "cell_type": "code",
   "execution_count": 9,
   "id": "b264a6d5",
   "metadata": {
    "execution": {
     "iopub.execute_input": "2021-10-20T08:01:57.693042Z",
     "iopub.status.busy": "2021-10-20T08:01:57.692326Z",
     "iopub.status.idle": "2021-10-20T08:01:57.694380Z",
     "shell.execute_reply": "2021-10-20T08:01:57.694824Z",
     "shell.execute_reply.started": "2021-10-20T07:47:37.908893Z"
    },
    "papermill": {
     "duration": 0.035184,
     "end_time": "2021-10-20T08:01:57.694942",
     "exception": false,
     "start_time": "2021-10-20T08:01:57.659758",
     "status": "completed"
    },
    "tags": []
   },
   "outputs": [],
   "source": [
    "def get_data_generators(train_df, test_df):\n",
    "    train_augmentation_parameters = dict(\n",
    "    #     rescale=1.0/255.0,\n",
    "        zoom_range=0.2,\n",
    "        fill_mode='nearest',\n",
    "        height_shift_range= 0.1,\n",
    "        width_shift_range=0.1,\n",
    "        brightness_range = [0.8, 1.2]\n",
    "    )\n",
    "\n",
    "    test_augmentation_parameters = dict(\n",
    "    #     rescale=1.0/255.0\n",
    "    )\n",
    "\n",
    "    train_consts = {\n",
    "        'seed': SEED,\n",
    "        'batch_size': BATCH_SIZE,\n",
    "        'class_mode': CLASS_MODE,\n",
    "        'color_mode': COLOR_MODE,\n",
    "        'target_size': TARGET_SIZE,  \n",
    "    }\n",
    "\n",
    "    test_consts = {\n",
    "        'batch_size': BATCH_SIZE,\n",
    "        'class_mode': CLASS_MODE,\n",
    "        'color_mode': COLOR_MODE,\n",
    "        'target_size': TARGET_SIZE,\n",
    "        'shuffle': False\n",
    "    }\n",
    "\n",
    "    train_augmenter = ImageDataGenerator(**train_augmentation_parameters)\n",
    "    test_augmenter = ImageDataGenerator(**test_augmentation_parameters)\n",
    "\n",
    "    train_generator = DCMDataFrameIterator(dataframe=train_df,\n",
    "                                 x_col='file_paths',\n",
    "                                 y_col='labels',\n",
    "                                 image_data_generator=train_augmenter,\n",
    "                                 **train_consts)\n",
    "\n",
    "    test_generator = DCMDataFrameIterator(dataframe=test_df,\n",
    "                                 x_col='file_paths',\n",
    "                                 y_col='labels',\n",
    "                                 image_data_generator=test_augmenter,\n",
    "                                 **test_consts)\n",
    "    \n",
    "    return train_generator, test_generator"
   ]
  },
  {
   "cell_type": "code",
   "execution_count": 10,
   "id": "28bd1564",
   "metadata": {
    "execution": {
     "iopub.execute_input": "2021-10-20T08:01:57.751565Z",
     "iopub.status.busy": "2021-10-20T08:01:57.751035Z",
     "iopub.status.idle": "2021-10-20T08:02:59.433113Z",
     "shell.execute_reply": "2021-10-20T08:02:59.432149Z",
     "shell.execute_reply.started": "2021-10-20T07:48:03.074079Z"
    },
    "papermill": {
     "duration": 61.712475,
     "end_time": "2021-10-20T08:02:59.433274",
     "exception": false,
     "start_time": "2021-10-20T08:01:57.720799",
     "status": "completed"
    },
    "tags": []
   },
   "outputs": [],
   "source": [
    "train_df_flair = get_train_val_dataframe('flair')\n",
    "train_df_t1w = get_train_val_dataframe('t1w')\n",
    "train_df_t1wce = get_train_val_dataframe('t1wce')\n",
    "train_df_t2w = get_train_val_dataframe('t2w')"
   ]
  },
  {
   "cell_type": "code",
   "execution_count": 11,
   "id": "bb3157e9",
   "metadata": {
    "execution": {
     "iopub.execute_input": "2021-10-20T08:02:59.494221Z",
     "iopub.status.busy": "2021-10-20T08:02:59.493554Z",
     "iopub.status.idle": "2021-10-20T08:02:59.496224Z",
     "shell.execute_reply": "2021-10-20T08:02:59.496648Z",
     "shell.execute_reply.started": "2021-10-20T07:49:22.553198Z"
    },
    "papermill": {
     "duration": 0.037015,
     "end_time": "2021-10-20T08:02:59.496774",
     "exception": false,
     "start_time": "2021-10-20T08:02:59.459759",
     "status": "completed"
    },
    "tags": []
   },
   "outputs": [
    {
     "data": {
      "text/html": [
       "<div>\n",
       "<style scoped>\n",
       "    .dataframe tbody tr th:only-of-type {\n",
       "        vertical-align: middle;\n",
       "    }\n",
       "\n",
       "    .dataframe tbody tr th {\n",
       "        vertical-align: top;\n",
       "    }\n",
       "\n",
       "    .dataframe thead th {\n",
       "        text-align: right;\n",
       "    }\n",
       "</style>\n",
       "<table border=\"1\" class=\"dataframe\">\n",
       "  <thead>\n",
       "    <tr style=\"text-align: right;\">\n",
       "      <th></th>\n",
       "      <th>patient_ids</th>\n",
       "      <th>labels</th>\n",
       "      <th>file_paths</th>\n",
       "    </tr>\n",
       "  </thead>\n",
       "  <tbody>\n",
       "    <tr>\n",
       "      <th>0</th>\n",
       "      <td>0</td>\n",
       "      <td>1</td>\n",
       "      <td>../input/rsna-miccai-brain-tumor-radiogenomic-...</td>\n",
       "    </tr>\n",
       "    <tr>\n",
       "      <th>1</th>\n",
       "      <td>0</td>\n",
       "      <td>1</td>\n",
       "      <td>../input/rsna-miccai-brain-tumor-radiogenomic-...</td>\n",
       "    </tr>\n",
       "    <tr>\n",
       "      <th>2</th>\n",
       "      <td>0</td>\n",
       "      <td>1</td>\n",
       "      <td>../input/rsna-miccai-brain-tumor-radiogenomic-...</td>\n",
       "    </tr>\n",
       "    <tr>\n",
       "      <th>3</th>\n",
       "      <td>0</td>\n",
       "      <td>1</td>\n",
       "      <td>../input/rsna-miccai-brain-tumor-radiogenomic-...</td>\n",
       "    </tr>\n",
       "    <tr>\n",
       "      <th>4</th>\n",
       "      <td>0</td>\n",
       "      <td>1</td>\n",
       "      <td>../input/rsna-miccai-brain-tumor-radiogenomic-...</td>\n",
       "    </tr>\n",
       "  </tbody>\n",
       "</table>\n",
       "</div>"
      ],
      "text/plain": [
       "   patient_ids labels                                         file_paths\n",
       "0            0      1  ../input/rsna-miccai-brain-tumor-radiogenomic-...\n",
       "1            0      1  ../input/rsna-miccai-brain-tumor-radiogenomic-...\n",
       "2            0      1  ../input/rsna-miccai-brain-tumor-radiogenomic-...\n",
       "3            0      1  ../input/rsna-miccai-brain-tumor-radiogenomic-...\n",
       "4            0      1  ../input/rsna-miccai-brain-tumor-radiogenomic-..."
      ]
     },
     "execution_count": 11,
     "metadata": {},
     "output_type": "execute_result"
    }
   ],
   "source": [
    "train_df_flair.head()"
   ]
  },
  {
   "cell_type": "code",
   "execution_count": 12,
   "id": "1d32e3c9",
   "metadata": {
    "execution": {
     "iopub.execute_input": "2021-10-20T08:02:59.553657Z",
     "iopub.status.busy": "2021-10-20T08:02:59.553021Z",
     "iopub.status.idle": "2021-10-20T08:03:06.135439Z",
     "shell.execute_reply": "2021-10-20T08:03:06.134936Z",
     "shell.execute_reply.started": "2021-10-20T07:49:22.566332Z"
    },
    "papermill": {
     "duration": 6.612651,
     "end_time": "2021-10-20T08:03:06.135578",
     "exception": false,
     "start_time": "2021-10-20T08:02:59.522927",
     "status": "completed"
    },
    "tags": []
   },
   "outputs": [],
   "source": [
    "test_df_flair = get_test_dataframe('flair')\n",
    "test_df_t1w = get_test_dataframe('t1w')\n",
    "test_df_t1wce = get_test_dataframe('t1wce')\n",
    "test_df_t2w = get_test_dataframe('t2w')"
   ]
  },
  {
   "cell_type": "code",
   "execution_count": 13,
   "id": "a6faf7c0",
   "metadata": {
    "execution": {
     "iopub.execute_input": "2021-10-20T08:03:06.195000Z",
     "iopub.status.busy": "2021-10-20T08:03:06.194341Z",
     "iopub.status.idle": "2021-10-20T08:03:06.196897Z",
     "shell.execute_reply": "2021-10-20T08:03:06.197293Z",
     "shell.execute_reply.started": "2021-10-20T07:49:32.075944Z"
    },
    "papermill": {
     "duration": 0.034744,
     "end_time": "2021-10-20T08:03:06.197411",
     "exception": false,
     "start_time": "2021-10-20T08:03:06.162667",
     "status": "completed"
    },
    "tags": []
   },
   "outputs": [
    {
     "data": {
      "text/plain": [
       "((7639, 3), (7736, 3), (9699, 3), (10155, 3))"
      ]
     },
     "execution_count": 13,
     "metadata": {},
     "output_type": "execute_result"
    }
   ],
   "source": [
    "train_df_flair.shape, train_df_t1w.shape, train_df_t1wce.shape, train_df_t2w.shape"
   ]
  },
  {
   "cell_type": "code",
   "execution_count": 14,
   "id": "cb62d053",
   "metadata": {
    "execution": {
     "iopub.execute_input": "2021-10-20T08:03:06.256811Z",
     "iopub.status.busy": "2021-10-20T08:03:06.255919Z",
     "iopub.status.idle": "2021-10-20T08:03:32.930532Z",
     "shell.execute_reply": "2021-10-20T08:03:32.929488Z",
     "shell.execute_reply.started": "2021-10-20T07:49:32.086331Z"
    },
    "papermill": {
     "duration": 26.706566,
     "end_time": "2021-10-20T08:03:32.930723",
     "exception": false,
     "start_time": "2021-10-20T08:03:06.224157",
     "status": "completed"
    },
    "tags": []
   },
   "outputs": [
    {
     "name": "stdout",
     "output_type": "stream",
     "text": [
      "Found 7639 validated image filenames belonging to 2 classes.\n",
      "Found 1119 validated image filenames belonging to 2 classes.\n",
      "Found 7736 validated image filenames belonging to 2 classes.\n",
      "Found 1187 validated image filenames belonging to 2 classes.\n",
      "Found 9699 validated image filenames belonging to 2 classes.\n",
      "Found 1441 validated image filenames belonging to 2 classes.\n",
      "Found 10155 validated image filenames belonging to 2 classes.\n",
      "Found 1463 validated image filenames belonging to 2 classes.\n"
     ]
    }
   ],
   "source": [
    "train_flair, test_flair = get_data_generators(train_df_flair, test_df_flair)\n",
    "train_t1w, test_t1w = get_data_generators(train_df_t1w, test_df_t1w)\n",
    "train_t1wce, test_t1wce = get_data_generators(train_df_t1wce, test_df_t1wce)\n",
    "train_t2w, test_t2w = get_data_generators(train_df_t2w, test_df_t2w)"
   ]
  },
  {
   "cell_type": "markdown",
   "id": "d1c75826",
   "metadata": {
    "papermill": {
     "duration": 0.029274,
     "end_time": "2021-10-20T08:03:32.989752",
     "exception": false,
     "start_time": "2021-10-20T08:03:32.960478",
     "status": "completed"
    },
    "tags": []
   },
   "source": [
    "# Models"
   ]
  },
  {
   "cell_type": "code",
   "execution_count": 15,
   "id": "d2ebe0e3",
   "metadata": {
    "execution": {
     "iopub.execute_input": "2021-10-20T08:03:33.053813Z",
     "iopub.status.busy": "2021-10-20T08:03:33.050442Z",
     "iopub.status.idle": "2021-10-20T08:03:33.056531Z",
     "shell.execute_reply": "2021-10-20T08:03:33.055987Z",
     "shell.execute_reply.started": "2021-10-20T07:50:28.848347Z"
    },
    "papermill": {
     "duration": 0.038071,
     "end_time": "2021-10-20T08:03:33.056673",
     "exception": false,
     "start_time": "2021-10-20T08:03:33.018602",
     "status": "completed"
    },
    "tags": []
   },
   "outputs": [],
   "source": [
    "def model_EfficientNetB0(path, lr = 0.001, dr_rate = 0.15):\n",
    "    model = EfficientNetB0(include_top=False, weights=path)\n",
    "    model.trainable = False\n",
    "\n",
    "    # Rebuild top\n",
    "    x = GlobalAveragePooling2D()(model.output)\n",
    "    x = BatchNormalization()(x)\n",
    "    x = Dropout(dr_rate)(x)\n",
    "    dense_1 = Dense(32, activation=\"relu\")(x)\n",
    "    outputs = Dense(1, activation=\"sigmoid\")(dense_1)\n",
    "\n",
    "    # Compile\n",
    "    model = Model(model.inputs, outputs, name=\"EfficientNet\")\n",
    "    optimizer = Adam(learning_rate=lr)\n",
    "    model.compile(\n",
    "        optimizer=optimizer, loss=\"binary_crossentropy\", metrics=[\"binary_accuracy\"]\n",
    "    )\n",
    "    return model\n",
    "    \n",
    "    "
   ]
  },
  {
   "cell_type": "code",
   "execution_count": 16,
   "id": "43ab03db",
   "metadata": {
    "execution": {
     "iopub.execute_input": "2021-10-20T08:03:33.123779Z",
     "iopub.status.busy": "2021-10-20T08:03:33.123140Z",
     "iopub.status.idle": "2021-10-20T08:03:33.125352Z",
     "shell.execute_reply": "2021-10-20T08:03:33.125846Z",
     "shell.execute_reply.started": "2021-10-20T07:50:31.103802Z"
    },
    "papermill": {
     "duration": 0.038561,
     "end_time": "2021-10-20T08:03:33.125975",
     "exception": false,
     "start_time": "2021-10-20T08:03:33.087414",
     "status": "completed"
    },
    "tags": []
   },
   "outputs": [],
   "source": [
    "def model_EfficientNetB1(path, lr = 0.001, dr_rate = 0.15):\n",
    "    model = EfficientNetB1(include_top=False, weights=path)\n",
    "    model.trainable = False\n",
    "\n",
    "    # Rebuild top\n",
    "    x = GlobalAveragePooling2D()(model.output)\n",
    "    x = BatchNormalization()(x)\n",
    "    x = Dropout(dr_rate)(x)\n",
    "    dense_1 = Dense(32, activation=\"relu\")(x)\n",
    "    outputs = Dense(1, activation=\"sigmoid\")(dense_1)\n",
    "\n",
    "    # Compile\n",
    "    model = Model(model.inputs, outputs, name=\"EfficientNet\")\n",
    "    optimizer = Adam(learning_rate=lr)\n",
    "    model.compile(\n",
    "        optimizer=optimizer, loss=\"binary_crossentropy\", metrics=[\"accuracy\"]\n",
    "    )\n",
    "    return model"
   ]
  },
  {
   "cell_type": "code",
   "execution_count": 17,
   "id": "6e0715ac",
   "metadata": {
    "execution": {
     "iopub.execute_input": "2021-10-20T08:03:33.190672Z",
     "iopub.status.busy": "2021-10-20T08:03:33.189863Z",
     "iopub.status.idle": "2021-10-20T08:03:33.192238Z",
     "shell.execute_reply": "2021-10-20T08:03:33.191836Z",
     "shell.execute_reply.started": "2021-10-20T07:50:33.249980Z"
    },
    "papermill": {
     "duration": 0.037132,
     "end_time": "2021-10-20T08:03:33.192343",
     "exception": false,
     "start_time": "2021-10-20T08:03:33.155211",
     "status": "completed"
    },
    "tags": []
   },
   "outputs": [],
   "source": [
    "def model_EfficientNetB2(path, lr = 0.001, dr_rate = 0.15):\n",
    "    model = EfficientNetB2(include_top=False, weights=path)\n",
    "    model.trainable = False\n",
    "\n",
    "    # Rebuild top\n",
    "    x = GlobalAveragePooling2D()(model.output)\n",
    "    x = BatchNormalization()(x)\n",
    "    x = Dropout(dr_rate)(x)\n",
    "    dense_1 = Dense(32, activation=\"relu\")(x)\n",
    "    outputs = Dense(1, activation=\"sigmoid\")(dense_1)\n",
    "\n",
    "    # Compile\n",
    "    model = Model(model.inputs, outputs, name=\"EfficientNet\")\n",
    "    optimizer = Adam(learning_rate=lr)\n",
    "    model.compile(\n",
    "        optimizer=optimizer, loss=\"binary_crossentropy\", metrics=[\"accuracy\"]\n",
    "    )\n",
    "    return model"
   ]
  },
  {
   "cell_type": "code",
   "execution_count": 18,
   "id": "b54d247b",
   "metadata": {
    "execution": {
     "iopub.execute_input": "2021-10-20T08:03:33.256109Z",
     "iopub.status.busy": "2021-10-20T08:03:33.255364Z",
     "iopub.status.idle": "2021-10-20T08:03:33.257247Z",
     "shell.execute_reply": "2021-10-20T08:03:33.257637Z",
     "shell.execute_reply.started": "2021-10-20T07:50:34.907944Z"
    },
    "papermill": {
     "duration": 0.036948,
     "end_time": "2021-10-20T08:03:33.257757",
     "exception": false,
     "start_time": "2021-10-20T08:03:33.220809",
     "status": "completed"
    },
    "tags": []
   },
   "outputs": [],
   "source": [
    "def model_EfficientNetB3(path, lr = 0.001, dr_rate = 0.15):\n",
    "    model = EfficientNetB1(include_top=False, weights=path)\n",
    "    model.trainable = False\n",
    "\n",
    "    # Rebuild top\n",
    "    x = GlobalAveragePooling2D()(model.output)\n",
    "    x = BatchNormalization()(x)\n",
    "    x = Dropout(dr_rate)(x)\n",
    "    dense_1 = Dense(32, activation=\"relu\")(x)\n",
    "    outputs = Dense(1, activation=\"sigmoid\")(dense_1)\n",
    "\n",
    "    # Compile\n",
    "    model = Model(model.inputs, outputs, name=\"EfficientNet\")\n",
    "    optimizer = Adam(learning_rate=lr)\n",
    "    model.compile(\n",
    "        optimizer=optimizer, loss=\"binary_crossentropy\", metrics=[\"accuracy\"]\n",
    "    )\n",
    "    return model\n",
    "        "
   ]
  },
  {
   "cell_type": "code",
   "execution_count": 19,
   "id": "3eafc8b4",
   "metadata": {
    "execution": {
     "iopub.execute_input": "2021-10-20T08:03:33.318550Z",
     "iopub.status.busy": "2021-10-20T08:03:33.317778Z",
     "iopub.status.idle": "2021-10-20T08:03:33.320190Z",
     "shell.execute_reply": "2021-10-20T08:03:33.319755Z",
     "shell.execute_reply.started": "2021-10-20T07:50:39.351612Z"
    },
    "papermill": {
     "duration": 0.033935,
     "end_time": "2021-10-20T08:03:33.320293",
     "exception": false,
     "start_time": "2021-10-20T08:03:33.286358",
     "status": "completed"
    },
    "tags": []
   },
   "outputs": [],
   "source": [
    "callback = tf.keras.callbacks.EarlyStopping(monitor='val_loss', patience=3)"
   ]
  },
  {
   "cell_type": "markdown",
   "id": "a417ba6b",
   "metadata": {
    "papermill": {
     "duration": 0.028223,
     "end_time": "2021-10-20T08:03:33.376755",
     "exception": false,
     "start_time": "2021-10-20T08:03:33.348532",
     "status": "completed"
    },
    "tags": []
   },
   "source": [
    "# EfficientNet-B0"
   ]
  },
  {
   "cell_type": "code",
   "execution_count": 20,
   "id": "43d61bb9",
   "metadata": {
    "execution": {
     "iopub.execute_input": "2021-10-20T08:03:33.478688Z",
     "iopub.status.busy": "2021-10-20T08:03:33.478031Z",
     "iopub.status.idle": "2021-10-20T08:12:41.586382Z",
     "shell.execute_reply": "2021-10-20T08:12:41.585335Z"
    },
    "papermill": {
     "duration": 548.167102,
     "end_time": "2021-10-20T08:12:41.586550",
     "exception": false,
     "start_time": "2021-10-20T08:03:33.419448",
     "status": "completed"
    },
    "tags": []
   },
   "outputs": [
    {
     "name": "stderr",
     "output_type": "stream",
     "text": [
      "2021-10-20 08:03:33.609718: I tensorflow/stream_executor/cuda/cuda_gpu_executor.cc:937] successful NUMA node read from SysFS had negative value (-1), but there must be at least one NUMA node, so returning NUMA node zero\n",
      "2021-10-20 08:03:33.707436: I tensorflow/stream_executor/cuda/cuda_gpu_executor.cc:937] successful NUMA node read from SysFS had negative value (-1), but there must be at least one NUMA node, so returning NUMA node zero\n",
      "2021-10-20 08:03:33.708512: I tensorflow/stream_executor/cuda/cuda_gpu_executor.cc:937] successful NUMA node read from SysFS had negative value (-1), but there must be at least one NUMA node, so returning NUMA node zero\n",
      "2021-10-20 08:03:33.710336: I tensorflow/core/platform/cpu_feature_guard.cc:142] This TensorFlow binary is optimized with oneAPI Deep Neural Network Library (oneDNN) to use the following CPU instructions in performance-critical operations:  AVX2 AVX512F FMA\n",
      "To enable them in other operations, rebuild TensorFlow with the appropriate compiler flags.\n",
      "2021-10-20 08:03:33.711264: I tensorflow/stream_executor/cuda/cuda_gpu_executor.cc:937] successful NUMA node read from SysFS had negative value (-1), but there must be at least one NUMA node, so returning NUMA node zero\n",
      "2021-10-20 08:03:33.712229: I tensorflow/stream_executor/cuda/cuda_gpu_executor.cc:937] successful NUMA node read from SysFS had negative value (-1), but there must be at least one NUMA node, so returning NUMA node zero\n",
      "2021-10-20 08:03:33.713141: I tensorflow/stream_executor/cuda/cuda_gpu_executor.cc:937] successful NUMA node read from SysFS had negative value (-1), but there must be at least one NUMA node, so returning NUMA node zero\n",
      "2021-10-20 08:03:35.485710: I tensorflow/stream_executor/cuda/cuda_gpu_executor.cc:937] successful NUMA node read from SysFS had negative value (-1), but there must be at least one NUMA node, so returning NUMA node zero\n",
      "2021-10-20 08:03:35.486503: I tensorflow/stream_executor/cuda/cuda_gpu_executor.cc:937] successful NUMA node read from SysFS had negative value (-1), but there must be at least one NUMA node, so returning NUMA node zero\n",
      "2021-10-20 08:03:35.487185: I tensorflow/stream_executor/cuda/cuda_gpu_executor.cc:937] successful NUMA node read from SysFS had negative value (-1), but there must be at least one NUMA node, so returning NUMA node zero\n",
      "2021-10-20 08:03:35.487801: I tensorflow/core/common_runtime/gpu/gpu_device.cc:1510] Created device /job:localhost/replica:0/task:0/device:GPU:0 with 15403 MB memory:  -> device: 0, name: Tesla P100-PCIE-16GB, pci bus id: 0000:00:04.0, compute capability: 6.0\n",
      "/opt/conda/lib/python3.7/site-packages/keras/engine/training.py:1972: UserWarning: `Model.fit_generator` is deprecated and will be removed in a future version. Please use `Model.fit`, which supports generators.\n",
      "  warnings.warn('`Model.fit_generator` is deprecated and '\n",
      "2021-10-20 08:03:49.067567: I tensorflow/compiler/mlir/mlir_graph_optimization_pass.cc:185] None of the MLIR Optimization Passes are enabled (registered 2)\n"
     ]
    },
    {
     "name": "stdout",
     "output_type": "stream",
     "text": [
      "Epoch 1/10\n"
     ]
    },
    {
     "name": "stderr",
     "output_type": "stream",
     "text": [
      "2021-10-20 08:04:10.477939: I tensorflow/stream_executor/cuda/cuda_dnn.cc:369] Loaded cuDNN version 8005\n"
     ]
    },
    {
     "name": "stdout",
     "output_type": "stream",
     "text": [
      "15/15 [==============================] - 142s 8s/step - loss: 0.7206 - binary_accuracy: 0.5816 - val_loss: 0.5598 - val_binary_accuracy: 0.9312\n",
      "Epoch 2/10\n",
      "15/15 [==============================] - 113s 6s/step - loss: 0.6471 - binary_accuracy: 0.6312 - val_loss: 0.6280 - val_binary_accuracy: 0.7605\n",
      "Epoch 3/10\n",
      "15/15 [==============================] - 101s 6s/step - loss: 0.6146 - binary_accuracy: 0.6607 - val_loss: 0.5761 - val_binary_accuracy: 0.8686\n",
      "Epoch 4/10\n",
      "15/15 [==============================] - 102s 6s/step - loss: 0.5919 - binary_accuracy: 0.6769 - val_loss: 0.6193 - val_binary_accuracy: 0.7373\n"
     ]
    }
   ],
   "source": [
    "efficientB0_flaire = model_EfficientNetB0('../input/efficentnet-b0b5-tensorflow-24-notop/efficientnet-b0_tf24_imagenet_1000_notop.h5')\n",
    "history_flair_1 = efficientB0_flaire.fit_generator(\n",
    "        generator=train_flair,\n",
    "        steps_per_epoch=len(train_flair),\n",
    "        epochs=10,\n",
    "        validation_data=test_flair,\n",
    "        validation_steps=len(test_flair),\n",
    "        callbacks=[callback],\n",
    "        workers=2)"
   ]
  },
  {
   "cell_type": "code",
   "execution_count": 21,
   "id": "2878dbcd",
   "metadata": {
    "execution": {
     "iopub.execute_input": "2021-10-20T08:12:41.914778Z",
     "iopub.status.busy": "2021-10-20T08:12:41.911496Z",
     "iopub.status.idle": "2021-10-20T08:24:17.987604Z",
     "shell.execute_reply": "2021-10-20T08:24:17.986422Z",
     "shell.execute_reply.started": "2021-10-15T11:36:40.214636Z"
    },
    "papermill": {
     "duration": 696.220736,
     "end_time": "2021-10-20T08:24:17.987889",
     "exception": false,
     "start_time": "2021-10-20T08:12:41.767153",
     "status": "completed"
    },
    "tags": []
   },
   "outputs": [
    {
     "name": "stdout",
     "output_type": "stream",
     "text": [
      "Epoch 1/10\n",
      "16/16 [==============================] - 172s 9s/step - loss: 0.7557 - binary_accuracy: 0.5486 - val_loss: 0.6521 - val_binary_accuracy: 0.6714\n",
      "Epoch 2/10\n",
      "16/16 [==============================] - 114s 6s/step - loss: 0.6720 - binary_accuracy: 0.6038 - val_loss: 0.5954 - val_binary_accuracy: 0.8526\n",
      "Epoch 3/10\n",
      "16/16 [==============================] - 110s 6s/step - loss: 0.6388 - binary_accuracy: 0.6368 - val_loss: 0.6612 - val_binary_accuracy: 0.6049\n",
      "Epoch 4/10\n",
      "16/16 [==============================] - 100s 6s/step - loss: 0.6237 - binary_accuracy: 0.6511 - val_loss: 0.6434 - val_binary_accuracy: 0.6512\n",
      "Epoch 5/10\n",
      "16/16 [==============================] - 100s 6s/step - loss: 0.6061 - binary_accuracy: 0.6665 - val_loss: 0.6203 - val_binary_accuracy: 0.7211\n"
     ]
    }
   ],
   "source": [
    "efficientB0_t1w = model_EfficientNetB0('../input/efficentnet-b0b5-tensorflow-24-notop/efficientnet-b0_tf24_imagenet_1000_notop.h5')\n",
    "history_t1w_1 = efficientB0_t1w.fit_generator(\n",
    "        generator=train_t1w,\n",
    "        steps_per_epoch=len(train_t1w),\n",
    "        epochs=10,\n",
    "        validation_data=test_t1w,\n",
    "        validation_steps=len(test_t1w),\n",
    "        callbacks=[callback],\n",
    "        workers=2)"
   ]
  },
  {
   "cell_type": "code",
   "execution_count": 22,
   "id": "7d0318b0",
   "metadata": {
    "execution": {
     "iopub.execute_input": "2021-10-20T08:24:18.351154Z",
     "iopub.status.busy": "2021-10-20T08:24:18.350293Z",
     "iopub.status.idle": "2021-10-20T08:38:09.651700Z",
     "shell.execute_reply": "2021-10-20T08:38:09.652811Z",
     "shell.execute_reply.started": "2021-10-15T11:51:32.746562Z"
    },
    "papermill": {
     "duration": 831.454026,
     "end_time": "2021-10-20T08:38:09.653039",
     "exception": false,
     "start_time": "2021-10-20T08:24:18.199013",
     "status": "completed"
    },
    "tags": []
   },
   "outputs": [
    {
     "name": "stdout",
     "output_type": "stream",
     "text": [
      "Epoch 1/10\n",
      "19/19 [==============================] - 204s 9s/step - loss: 0.7447 - binary_accuracy: 0.5632 - val_loss: 0.7543 - val_binary_accuracy: 0.3012\n",
      "Epoch 2/10\n",
      "19/19 [==============================] - 144s 7s/step - loss: 0.6629 - binary_accuracy: 0.6206 - val_loss: 0.6754 - val_binary_accuracy: 0.5684\n",
      "Epoch 3/10\n",
      "19/19 [==============================] - 127s 6s/step - loss: 0.6323 - binary_accuracy: 0.6445 - val_loss: 0.7641 - val_binary_accuracy: 0.3178\n",
      "Epoch 4/10\n",
      "19/19 [==============================] - 136s 6s/step - loss: 0.6056 - binary_accuracy: 0.6676 - val_loss: 0.7317 - val_binary_accuracy: 0.3865\n",
      "Epoch 5/10\n",
      "19/19 [==============================] - 136s 6s/step - loss: 0.5950 - binary_accuracy: 0.6777 - val_loss: 0.7462 - val_binary_accuracy: 0.3720\n"
     ]
    }
   ],
   "source": [
    "efficientB0_t1wce = model_EfficientNetB0('../input/efficentnet-b0b5-tensorflow-24-notop/efficientnet-b0_tf24_imagenet_1000_notop.h5')\n",
    "history_t1wce_1 = efficientB0_t1wce.fit_generator(\n",
    "        generator=train_t1wce,\n",
    "        steps_per_epoch=len(train_t1wce),\n",
    "        epochs=10,\n",
    "        validation_data=test_t1wce,\n",
    "        validation_steps=len(test_t1wce),\n",
    "        callbacks=[callback],\n",
    "        workers=2)"
   ]
  },
  {
   "cell_type": "code",
   "execution_count": 23,
   "id": "11f0c247",
   "metadata": {
    "execution": {
     "iopub.execute_input": "2021-10-20T08:38:10.116839Z",
     "iopub.status.busy": "2021-10-20T08:38:10.115964Z",
     "iopub.status.idle": "2021-10-20T08:58:24.800556Z",
     "shell.execute_reply": "2021-10-20T08:58:24.785425Z",
     "shell.execute_reply.started": "2021-10-15T12:04:29.108416Z"
    },
    "papermill": {
     "duration": 1214.909943,
     "end_time": "2021-10-20T08:58:24.800763",
     "exception": false,
     "start_time": "2021-10-20T08:38:09.890820",
     "status": "completed"
    },
    "tags": []
   },
   "outputs": [
    {
     "name": "stdout",
     "output_type": "stream",
     "text": [
      "Epoch 1/10\n"
     ]
    },
    {
     "name": "stderr",
     "output_type": "stream",
     "text": [
      "/opt/conda/lib/python3.7/site-packages/ipykernel_launcher.py:30: RuntimeWarning: invalid value encountered in true_divide\n"
     ]
    },
    {
     "name": "stdout",
     "output_type": "stream",
     "text": [
      "20/20 [==============================] - 223s 10s/step - loss: 0.7246 - binary_accuracy: 0.5806 - val_loss: 0.5450 - val_binary_accuracy: 0.9638\n",
      "Epoch 2/10\n",
      "20/20 [==============================] - 140s 7s/step - loss: 0.6306 - binary_accuracy: 0.6491 - val_loss: 0.5421 - val_binary_accuracy: 0.9392\n",
      "Epoch 3/10\n",
      "20/20 [==============================] - 146s 7s/step - loss: 0.5990 - binary_accuracy: 0.6759 - val_loss: 0.5466 - val_binary_accuracy: 0.9118\n",
      "Epoch 4/10\n",
      "20/20 [==============================] - 136s 6s/step - loss: 0.5729 - binary_accuracy: 0.6913 - val_loss: 0.5180 - val_binary_accuracy: 0.9398\n",
      "Epoch 5/10\n",
      "20/20 [==============================] - 145s 7s/step - loss: 0.5521 - binary_accuracy: 0.7129 - val_loss: 0.5965 - val_binary_accuracy: 0.7915\n",
      "Epoch 6/10\n",
      "20/20 [==============================] - 144s 6s/step - loss: 0.5317 - binary_accuracy: 0.7218 - val_loss: 0.5616 - val_binary_accuracy: 0.8312\n",
      "Epoch 7/10\n",
      "20/20 [==============================] - 145s 6s/step - loss: 0.5184 - binary_accuracy: 0.7382 - val_loss: 0.5537 - val_binary_accuracy: 0.8312\n"
     ]
    }
   ],
   "source": [
    "efficientB0_t2w = model_EfficientNetB0('../input/efficentnet-b0b5-tensorflow-24-notop/efficientnet-b0_tf24_imagenet_1000_notop.h5')\n",
    "history_t2w_1 = efficientB0_t2w.fit_generator(\n",
    "        generator=train_t2w,\n",
    "        steps_per_epoch=len(train_t2w),\n",
    "        epochs=10,\n",
    "        validation_data=test_t2w,\n",
    "        validation_steps=len(test_t2w),\n",
    "        callbacks=[callback],\n",
    "        workers=2)"
   ]
  },
  {
   "cell_type": "markdown",
   "id": "9b7dc1aa",
   "metadata": {
    "papermill": {
     "duration": 0.323726,
     "end_time": "2021-10-20T08:58:25.947167",
     "exception": false,
     "start_time": "2021-10-20T08:58:25.623441",
     "status": "completed"
    },
    "tags": []
   },
   "source": [
    "# EfficientNet-B1"
   ]
  },
  {
   "cell_type": "code",
   "execution_count": 24,
   "id": "40f5918d",
   "metadata": {
    "execution": {
     "iopub.execute_input": "2021-10-20T08:58:26.584659Z",
     "iopub.status.busy": "2021-10-20T08:58:26.581831Z",
     "iopub.status.idle": "2021-10-20T09:12:44.035387Z",
     "shell.execute_reply": "2021-10-20T09:12:44.034230Z"
    },
    "papermill": {
     "duration": 857.773212,
     "end_time": "2021-10-20T09:12:44.035575",
     "exception": false,
     "start_time": "2021-10-20T08:58:26.262363",
     "status": "completed"
    },
    "tags": []
   },
   "outputs": [
    {
     "name": "stdout",
     "output_type": "stream",
     "text": [
      "Epoch 1/10\n",
      " 2/15 [===>..........................] - ETA: 24s - loss: 0.7849 - accuracy: 0.5527  "
     ]
    },
    {
     "name": "stderr",
     "output_type": "stream",
     "text": [
      "/opt/conda/lib/python3.7/site-packages/ipykernel_launcher.py:30: RuntimeWarning: invalid value encountered in true_divide\n"
     ]
    },
    {
     "name": "stdout",
     "output_type": "stream",
     "text": [
      "15/15 [==============================] - 176s 9s/step - loss: 0.7240 - accuracy: 0.5975 - val_loss: 0.7085 - val_accuracy: 0.4835\n",
      "Epoch 2/10\n",
      "15/15 [==============================] - 106s 7s/step - loss: 0.6503 - accuracy: 0.6272 - val_loss: 0.6651 - val_accuracy: 0.6533\n",
      "Epoch 3/10\n",
      "15/15 [==============================] - 114s 7s/step - loss: 0.6167 - accuracy: 0.6558 - val_loss: 0.6481 - val_accuracy: 0.6899\n",
      "Epoch 4/10\n",
      "15/15 [==============================] - 115s 7s/step - loss: 0.5875 - accuracy: 0.6845 - val_loss: 0.7009 - val_accuracy: 0.4799\n",
      "Epoch 5/10\n",
      "15/15 [==============================] - 104s 6s/step - loss: 0.5753 - accuracy: 0.6924 - val_loss: 0.6812 - val_accuracy: 0.5469\n",
      "Epoch 6/10\n",
      "15/15 [==============================] - 103s 6s/step - loss: 0.5648 - accuracy: 0.7085 - val_loss: 0.7128 - val_accuracy: 0.4281\n"
     ]
    }
   ],
   "source": [
    "efficientB1_flaire = model_EfficientNetB1('../input/efficentnet-b0b5-tensorflow-24-notop/efficientnet-b1_tf24_imagenet_1000_notop.h5')\n",
    "history_flair_2 = efficientB1_flaire.fit_generator(\n",
    "        generator=train_flair,\n",
    "        steps_per_epoch=len(train_flair),\n",
    "        epochs=10,\n",
    "        validation_data=test_flair,\n",
    "        validation_steps=len(test_flair),\n",
    "        callbacks=[callback],\n",
    "        workers=2)"
   ]
  },
  {
   "cell_type": "code",
   "execution_count": 25,
   "id": "4739ff8e",
   "metadata": {
    "execution": {
     "iopub.execute_input": "2021-10-20T09:12:45.692950Z",
     "iopub.status.busy": "2021-10-20T09:12:45.682271Z",
     "iopub.status.idle": "2021-10-20T09:22:49.853697Z",
     "shell.execute_reply": "2021-10-20T09:22:49.852951Z",
     "shell.execute_reply.started": "2021-10-15T13:51:48.725375Z"
    },
    "papermill": {
     "duration": 605.338077,
     "end_time": "2021-10-20T09:22:49.853895",
     "exception": false,
     "start_time": "2021-10-20T09:12:44.515818",
     "status": "completed"
    },
    "tags": []
   },
   "outputs": [
    {
     "name": "stdout",
     "output_type": "stream",
     "text": [
      "Epoch 1/10\n",
      "16/16 [==============================] - 176s 9s/step - loss: 0.7546 - accuracy: 0.5525 - val_loss: 0.5260 - val_accuracy: 0.9705\n",
      "Epoch 2/10\n",
      "16/16 [==============================] - 105s 6s/step - loss: 0.6872 - accuracy: 0.5976 - val_loss: 0.5419 - val_accuracy: 0.9537\n",
      "Epoch 3/10\n",
      "16/16 [==============================] - 101s 6s/step - loss: 0.6594 - accuracy: 0.6184 - val_loss: 0.5441 - val_accuracy: 0.9225\n",
      "Epoch 4/10\n",
      "16/16 [==============================] - 111s 6s/step - loss: 0.6409 - accuracy: 0.6351 - val_loss: 0.5592 - val_accuracy: 0.9014\n"
     ]
    }
   ],
   "source": [
    "efficientB1_t1w = model_EfficientNetB1('../input/efficentnet-b0b5-tensorflow-24-notop/efficientnet-b1_tf24_imagenet_1000_notop.h5')\n",
    "history_t1w_2 = efficientB1_t1w.fit_generator(\n",
    "        generator=train_t1w,\n",
    "        steps_per_epoch=len(train_t1w),\n",
    "        epochs=10,\n",
    "        validation_data=test_t1w,\n",
    "        validation_steps=len(test_t1w),\n",
    "        callbacks=[callback],\n",
    "        workers=2)"
   ]
  },
  {
   "cell_type": "code",
   "execution_count": 26,
   "id": "7568630c",
   "metadata": {
    "execution": {
     "iopub.execute_input": "2021-10-20T09:22:50.715193Z",
     "iopub.status.busy": "2021-10-20T09:22:50.705501Z",
     "iopub.status.idle": "2021-10-20T09:47:44.641366Z",
     "shell.execute_reply": "2021-10-20T09:47:44.643549Z"
    },
    "papermill": {
     "duration": 1494.324561,
     "end_time": "2021-10-20T09:47:44.643821",
     "exception": false,
     "start_time": "2021-10-20T09:22:50.319260",
     "status": "completed"
    },
    "tags": []
   },
   "outputs": [
    {
     "name": "stdout",
     "output_type": "stream",
     "text": [
      "Epoch 1/10\n",
      "19/19 [==============================] - 203s 9s/step - loss: 0.7282 - accuracy: 0.5536 - val_loss: 0.7361 - val_accuracy: 0.2977\n",
      "Epoch 2/10\n",
      "19/19 [==============================] - 134s 7s/step - loss: 0.6660 - accuracy: 0.6068 - val_loss: 0.7177 - val_accuracy: 0.3956\n",
      "Epoch 3/10\n",
      "19/19 [==============================] - 131s 7s/step - loss: 0.6354 - accuracy: 0.6398 - val_loss: 0.7217 - val_accuracy: 0.4185\n",
      "Epoch 4/10\n",
      "19/19 [==============================] - 129s 6s/step - loss: 0.6171 - accuracy: 0.6600 - val_loss: 0.7086 - val_accuracy: 0.4559\n",
      "Epoch 5/10\n",
      "19/19 [==============================] - 131s 7s/step - loss: 0.6006 - accuracy: 0.6699 - val_loss: 0.7259 - val_accuracy: 0.4275\n",
      "Epoch 6/10\n",
      "19/19 [==============================] - 137s 6s/step - loss: 0.5897 - accuracy: 0.6766 - val_loss: 0.6825 - val_accuracy: 0.5614\n",
      "Epoch 7/10\n",
      "19/19 [==============================] - 138s 6s/step - loss: 0.5741 - accuracy: 0.6964 - val_loss: 0.6813 - val_accuracy: 0.5711\n",
      "Epoch 8/10\n",
      "19/19 [==============================] - 138s 6s/step - loss: 0.5666 - accuracy: 0.6981 - val_loss: 0.6903 - val_accuracy: 0.5212\n",
      "Epoch 9/10\n",
      "19/19 [==============================] - 133s 6s/step - loss: 0.5557 - accuracy: 0.7108 - val_loss: 0.6485 - val_accuracy: 0.6232\n",
      "Epoch 10/10\n",
      "19/19 [==============================] - 138s 6s/step - loss: 0.5428 - accuracy: 0.7260 - val_loss: 0.6667 - val_accuracy: 0.6037\n"
     ]
    }
   ],
   "source": [
    "efficientB1_t1wce = model_EfficientNetB1('../input/efficentnet-b0b5-tensorflow-24-notop/efficientnet-b1_tf24_imagenet_1000_notop.h5')\n",
    "history_t1wce_2 = efficientB1_t1wce.fit_generator(\n",
    "        generator=train_t1wce,\n",
    "        steps_per_epoch=len(train_t1wce),\n",
    "        epochs=10,\n",
    "        validation_data=test_t1wce,\n",
    "        validation_steps=len(test_t1wce),\n",
    "        callbacks=[callback],\n",
    "        workers=2)"
   ]
  },
  {
   "cell_type": "code",
   "execution_count": 27,
   "id": "4a7d7607",
   "metadata": {
    "execution": {
     "iopub.execute_input": "2021-10-20T09:47:45.648457Z",
     "iopub.status.busy": "2021-10-20T09:47:45.647698Z",
     "iopub.status.idle": "2021-10-20T10:17:21.948034Z",
     "shell.execute_reply": "2021-10-20T10:17:21.952043Z"
    },
    "papermill": {
     "duration": 1776.79795,
     "end_time": "2021-10-20T10:17:21.953479",
     "exception": false,
     "start_time": "2021-10-20T09:47:45.155529",
     "status": "completed"
    },
    "tags": []
   },
   "outputs": [
    {
     "name": "stdout",
     "output_type": "stream",
     "text": [
      "Epoch 1/10\n",
      " 4/20 [=====>........................] - ETA: 1:33 - loss: 0.7522 - accuracy: 0.5605"
     ]
    },
    {
     "name": "stderr",
     "output_type": "stream",
     "text": [
      "/opt/conda/lib/python3.7/site-packages/ipykernel_launcher.py:30: RuntimeWarning: invalid value encountered in true_divide\n"
     ]
    },
    {
     "name": "stdout",
     "output_type": "stream",
     "text": [
      "20/20 [==============================] - 195s 9s/step - loss: 0.7003 - accuracy: 0.5953 - val_loss: 0.6366 - val_accuracy: 0.7601\n",
      "Epoch 2/10\n",
      "20/20 [==============================] - 152s 7s/step - loss: 0.6296 - accuracy: 0.6484 - val_loss: 0.5674 - val_accuracy: 0.9241\n",
      "Epoch 3/10\n",
      "20/20 [==============================] - 155s 7s/step - loss: 0.6082 - accuracy: 0.6684 - val_loss: 0.6110 - val_accuracy: 0.8182\n",
      "Epoch 4/10\n",
      "20/20 [==============================] - 150s 7s/step - loss: 0.5827 - accuracy: 0.6773 - val_loss: 0.5217 - val_accuracy: 0.9440\n",
      "Epoch 5/10\n",
      "20/20 [==============================] - 156s 7s/step - loss: 0.5645 - accuracy: 0.7019 - val_loss: 0.5158 - val_accuracy: 0.9296\n",
      "Epoch 6/10\n",
      "20/20 [==============================] - 159s 7s/step - loss: 0.5505 - accuracy: 0.7099 - val_loss: 0.5099 - val_accuracy: 0.8982\n",
      "Epoch 7/10\n",
      "20/20 [==============================] - 151s 7s/step - loss: 0.5308 - accuracy: 0.7268 - val_loss: 0.5362 - val_accuracy: 0.8804\n",
      "Epoch 8/10\n",
      "20/20 [==============================] - 158s 8s/step - loss: 0.5297 - accuracy: 0.7254 - val_loss: 0.4967 - val_accuracy: 0.9105\n",
      "Epoch 9/10\n",
      "20/20 [==============================] - 164s 7s/step - loss: 0.5143 - accuracy: 0.7346 - val_loss: 0.4937 - val_accuracy: 0.8968\n",
      "Epoch 10/10\n",
      "20/20 [==============================] - 158s 7s/step - loss: 0.5023 - accuracy: 0.7452 - val_loss: 0.4772 - val_accuracy: 0.8941\n"
     ]
    }
   ],
   "source": [
    "efficientB1_t2w = model_EfficientNetB1('../input/efficentnet-b0b5-tensorflow-24-notop/efficientnet-b1_tf24_imagenet_1000_notop.h5')\n",
    "history_t2w_2 = efficientB1_t2w.fit_generator(\n",
    "        generator=train_t2w,\n",
    "        steps_per_epoch=len(train_t2w),\n",
    "        epochs=10,\n",
    "        validation_data=test_t2w,\n",
    "        validation_steps=len(test_t2w),\n",
    "        callbacks=[callback],\n",
    "        workers=2)"
   ]
  },
  {
   "cell_type": "markdown",
   "id": "e68a94c6",
   "metadata": {
    "papermill": {
     "duration": 0.616124,
     "end_time": "2021-10-20T10:17:23.311984",
     "exception": false,
     "start_time": "2021-10-20T10:17:22.695860",
     "status": "completed"
    },
    "tags": []
   },
   "source": [
    "# EfficientNet-B2"
   ]
  },
  {
   "cell_type": "code",
   "execution_count": 28,
   "id": "3cfa3cea",
   "metadata": {
    "execution": {
     "iopub.execute_input": "2021-10-20T10:17:25.762754Z",
     "iopub.status.busy": "2021-10-20T10:17:25.760914Z",
     "iopub.status.idle": "2021-10-20T10:39:48.902174Z",
     "shell.execute_reply": "2021-10-20T10:39:48.903405Z"
    },
    "papermill": {
     "duration": 1344.251171,
     "end_time": "2021-10-20T10:39:48.904222",
     "exception": false,
     "start_time": "2021-10-20T10:17:24.653051",
     "status": "completed"
    },
    "tags": []
   },
   "outputs": [
    {
     "name": "stdout",
     "output_type": "stream",
     "text": [
      "Epoch 1/10\n",
      "15/15 [==============================] - 145s 9s/step - loss: 0.8164 - accuracy: 0.5442 - val_loss: 0.6579 - val_accuracy: 0.6515\n",
      "Epoch 2/10\n",
      "15/15 [==============================] - 121s 7s/step - loss: 0.6669 - accuracy: 0.6255 - val_loss: 0.6805 - val_accuracy: 0.5630\n",
      "Epoch 3/10\n",
      "15/15 [==============================] - 106s 7s/step - loss: 0.6348 - accuracy: 0.6454 - val_loss: 0.5990 - val_accuracy: 0.7480\n",
      "Epoch 4/10\n",
      "15/15 [==============================] - 116s 7s/step - loss: 0.6104 - accuracy: 0.6700 - val_loss: 0.5956 - val_accuracy: 0.7176\n",
      "Epoch 5/10\n",
      "15/15 [==============================] - 106s 7s/step - loss: 0.5901 - accuracy: 0.6850 - val_loss: 0.5590 - val_accuracy: 0.7793\n",
      "Epoch 6/10\n",
      "15/15 [==============================] - 107s 7s/step - loss: 0.5723 - accuracy: 0.6993 - val_loss: 0.5366 - val_accuracy: 0.8061\n",
      "Epoch 7/10\n",
      "15/15 [==============================] - 106s 7s/step - loss: 0.5632 - accuracy: 0.7045 - val_loss: 0.5217 - val_accuracy: 0.8427\n",
      "Epoch 8/10\n",
      "15/15 [==============================] - 106s 7s/step - loss: 0.5562 - accuracy: 0.7082 - val_loss: 0.5223 - val_accuracy: 0.8159\n",
      "Epoch 9/10\n",
      "15/15 [==============================] - 106s 7s/step - loss: 0.5389 - accuracy: 0.7259 - val_loss: 0.4776 - val_accuracy: 0.8427\n",
      "Epoch 10/10\n",
      "15/15 [==============================] - 116s 7s/step - loss: 0.5356 - accuracy: 0.7255 - val_loss: 0.5008 - val_accuracy: 0.8222\n"
     ]
    }
   ],
   "source": [
    "efficientB2_flaire = model_EfficientNetB2('../input/efficentnet-b0b5-tensorflow-24-notop/efficientnet-b2_tf24_imagenet_1000_notop.h5')\n",
    "history_flair_3 = efficientB2_flaire.fit_generator(\n",
    "        generator=train_flair,\n",
    "        steps_per_epoch=len(train_flair),\n",
    "        epochs=10,\n",
    "        validation_data=test_flair,\n",
    "        validation_steps=len(test_flair),\n",
    "        callbacks=[callback],\n",
    "        workers=2)"
   ]
  },
  {
   "cell_type": "code",
   "execution_count": 29,
   "id": "564d3ab8",
   "metadata": {
    "execution": {
     "iopub.execute_input": "2021-10-20T10:39:50.561390Z",
     "iopub.status.busy": "2021-10-20T10:39:50.552670Z",
     "iopub.status.idle": "2021-10-20T10:50:49.234968Z",
     "shell.execute_reply": "2021-10-20T10:50:49.232654Z"
    },
    "papermill": {
     "duration": 659.467013,
     "end_time": "2021-10-20T10:50:49.235245",
     "exception": false,
     "start_time": "2021-10-20T10:39:49.768232",
     "status": "completed"
    },
    "tags": []
   },
   "outputs": [
    {
     "name": "stdout",
     "output_type": "stream",
     "text": [
      "Epoch 1/10\n",
      "16/16 [==============================] - 147s 8s/step - loss: 0.7511 - accuracy: 0.5555 - val_loss: 0.8155 - val_accuracy: 0.1264\n",
      "Epoch 2/10\n",
      "16/16 [==============================] - 118s 6s/step - loss: 0.6689 - accuracy: 0.6063 - val_loss: 0.7068 - val_accuracy: 0.4701\n",
      "Epoch 3/10\n",
      "16/16 [==============================] - 104s 6s/step - loss: 0.6276 - accuracy: 0.6476 - val_loss: 0.7178 - val_accuracy: 0.4187\n",
      "Epoch 4/10\n",
      "16/16 [==============================] - 113s 6s/step - loss: 0.6203 - accuracy: 0.6551 - val_loss: 0.7976 - val_accuracy: 0.2199\n",
      "Epoch 5/10\n",
      "16/16 [==============================] - 102s 7s/step - loss: 0.5993 - accuracy: 0.6739 - val_loss: 0.7510 - val_accuracy: 0.3858\n"
     ]
    }
   ],
   "source": [
    "efficientB2_t1w = model_EfficientNetB2('../input/efficentnet-b0b5-tensorflow-24-notop/efficientnet-b2_tf24_imagenet_1000_notop.h5')\n",
    "history_t1w_3 = efficientB2_t1w.fit_generator(\n",
    "        generator=train_t1w,\n",
    "        steps_per_epoch=len(train_t1w),\n",
    "        epochs=10,\n",
    "        validation_data=test_t1w,\n",
    "        validation_steps=len(test_t1w),\n",
    "        callbacks=[callback],\n",
    "        workers=2)"
   ]
  },
  {
   "cell_type": "code",
   "execution_count": 30,
   "id": "86396797",
   "metadata": {
    "execution": {
     "iopub.execute_input": "2021-10-20T10:50:50.913945Z",
     "iopub.status.busy": "2021-10-20T10:50:50.912177Z",
     "iopub.status.idle": "2021-10-20T11:02:50.278999Z",
     "shell.execute_reply": "2021-10-20T11:02:50.280587Z"
    },
    "papermill": {
     "duration": 720.1544,
     "end_time": "2021-10-20T11:02:50.280883",
     "exception": false,
     "start_time": "2021-10-20T10:50:50.126483",
     "status": "completed"
    },
    "tags": []
   },
   "outputs": [
    {
     "name": "stdout",
     "output_type": "stream",
     "text": [
      "Epoch 1/10\n",
      "19/19 [==============================] - 217s 9s/step - loss: 0.7936 - accuracy: 0.5542 - val_loss: 0.6717 - val_accuracy: 0.5836\n",
      "Epoch 2/10\n",
      "19/19 [==============================] - 147s 7s/step - loss: 0.6894 - accuracy: 0.5945 - val_loss: 0.7241 - val_accuracy: 0.3921\n",
      "Epoch 3/10\n",
      "19/19 [==============================] - 132s 7s/step - loss: 0.6535 - accuracy: 0.6295 - val_loss: 0.7018 - val_accuracy: 0.4962\n",
      "Epoch 4/10\n",
      "19/19 [==============================] - 138s 6s/step - loss: 0.6153 - accuracy: 0.6624 - val_loss: 0.6957 - val_accuracy: 0.5108\n"
     ]
    }
   ],
   "source": [
    "efficientB2_t1wce = model_EfficientNetB2('../input/efficentnet-b0b5-tensorflow-24-notop/efficientnet-b2_tf24_imagenet_1000_notop.h5')\n",
    "history_t1wce_3 = efficientB2_t1wce.fit_generator(\n",
    "        generator=train_t1wce,\n",
    "        steps_per_epoch=len(train_t1wce),\n",
    "        epochs=10,\n",
    "        validation_data=test_t1wce,\n",
    "        validation_steps=len(test_t1wce),\n",
    "        callbacks=[callback],\n",
    "        workers=2)"
   ]
  },
  {
   "cell_type": "code",
   "execution_count": 31,
   "id": "60590acb",
   "metadata": {
    "execution": {
     "iopub.execute_input": "2021-10-20T11:02:52.362727Z",
     "iopub.status.busy": "2021-10-20T11:02:52.361802Z",
     "iopub.status.idle": "2021-10-20T11:34:04.440259Z",
     "shell.execute_reply": "2021-10-20T11:34:04.440969Z"
    },
    "papermill": {
     "duration": 1873.323788,
     "end_time": "2021-10-20T11:34:04.442319",
     "exception": false,
     "start_time": "2021-10-20T11:02:51.118531",
     "status": "completed"
    },
    "tags": []
   },
   "outputs": [
    {
     "name": "stderr",
     "output_type": "stream",
     "text": [
      "/opt/conda/lib/python3.7/site-packages/ipykernel_launcher.py:30: RuntimeWarning: invalid value encountered in true_divide\n"
     ]
    },
    {
     "name": "stdout",
     "output_type": "stream",
     "text": [
      "Epoch 1/10\n",
      "20/20 [==============================] - 231s 10s/step - loss: 0.7591 - accuracy: 0.5683 - val_loss: 0.6046 - val_accuracy: 0.9002\n",
      "Epoch 2/10\n",
      "20/20 [==============================] - 179s 8s/step - loss: 0.6513 - accuracy: 0.6345 - val_loss: 0.5696 - val_accuracy: 0.9638\n",
      "Epoch 3/10\n",
      "20/20 [==============================] - 172s 8s/step - loss: 0.6118 - accuracy: 0.6624 - val_loss: 0.5649 - val_accuracy: 0.9159\n",
      "Epoch 4/10\n",
      "20/20 [==============================] - 169s 8s/step - loss: 0.5960 - accuracy: 0.6738 - val_loss: 0.5321 - val_accuracy: 0.8592\n",
      "Epoch 5/10\n",
      "20/20 [==============================] - 173s 8s/step - loss: 0.5801 - accuracy: 0.6851 - val_loss: 0.5284 - val_accuracy: 0.9180\n",
      "Epoch 6/10\n",
      "20/20 [==============================] - 172s 8s/step - loss: 0.5590 - accuracy: 0.7013 - val_loss: 0.4835 - val_accuracy: 0.9050\n",
      "Epoch 7/10\n",
      "20/20 [==============================] - 174s 8s/step - loss: 0.5439 - accuracy: 0.7195 - val_loss: 0.4751 - val_accuracy: 0.9419\n",
      "Epoch 8/10\n",
      "20/20 [==============================] - 172s 8s/step - loss: 0.5395 - accuracy: 0.7194 - val_loss: 0.5027 - val_accuracy: 0.8729\n",
      "Epoch 9/10\n",
      "20/20 [==============================] - 174s 8s/step - loss: 0.5262 - accuracy: 0.7299 - val_loss: 0.4920 - val_accuracy: 0.8414\n",
      "Epoch 10/10\n",
      "20/20 [==============================] - 166s 8s/step - loss: 0.5235 - accuracy: 0.7277 - val_loss: 0.4753 - val_accuracy: 0.8483\n"
     ]
    }
   ],
   "source": [
    "efficientB2_t2w = model_EfficientNetB2('../input/efficentnet-b0b5-tensorflow-24-notop/efficientnet-b2_tf24_imagenet_1000_notop.h5')\n",
    "history_t2w_3 = efficientB2_t2w.fit_generator(\n",
    "        generator=train_t2w,\n",
    "        steps_per_epoch=len(train_t2w),\n",
    "        epochs=10,\n",
    "        validation_data=test_t2w,\n",
    "        validation_steps=len(test_t2w),\n",
    "        callbacks=[callback],\n",
    "        workers=2)"
   ]
  },
  {
   "cell_type": "code",
   "execution_count": 32,
   "id": "b963c048",
   "metadata": {
    "execution": {
     "iopub.execute_input": "2021-10-20T11:34:06.486954Z",
     "iopub.status.busy": "2021-10-20T11:34:06.486175Z",
     "iopub.status.idle": "2021-10-20T11:34:06.506532Z",
     "shell.execute_reply": "2021-10-20T11:34:06.508530Z"
    },
    "papermill": {
     "duration": 1.110713,
     "end_time": "2021-10-20T11:34:06.508770",
     "exception": false,
     "start_time": "2021-10-20T11:34:05.398057",
     "status": "completed"
    },
    "tags": []
   },
   "outputs": [],
   "source": [
    "pred_values = []\n",
    "\n",
    "# making prediction\n",
    "def predictions(model, data, dataframe):\n",
    "    test_pred = model.predict(data, steps=len(data))\n",
    "    dataframe['pred_y'] = test_pred\n",
    "    mean_pred = test_pred.mean()\n",
    "    preds = dataframe.groupby('patient_ids').apply(lambda x: x['pred_y'].max()\n",
    "        if (x['pred_y'].max() - mean_pred) > (mean_pred - x['pred_y'].min()) \n",
    "        else x['pred_y'].min())\n",
    "    return preds.values"
   ]
  },
  {
   "cell_type": "code",
   "execution_count": 33,
   "id": "6253ac52",
   "metadata": {
    "execution": {
     "iopub.execute_input": "2021-10-20T11:34:08.803450Z",
     "iopub.status.busy": "2021-10-20T11:34:08.801124Z",
     "iopub.status.idle": "2021-10-20T11:37:05.112287Z",
     "shell.execute_reply": "2021-10-20T11:37:05.111740Z"
    },
    "papermill": {
     "duration": 177.398507,
     "end_time": "2021-10-20T11:37:05.113057",
     "exception": false,
     "start_time": "2021-10-20T11:34:07.714550",
     "status": "completed"
    },
    "tags": []
   },
   "outputs": [
    {
     "name": "stderr",
     "output_type": "stream",
     "text": [
      "/opt/conda/lib/python3.7/site-packages/ipykernel_launcher.py:30: RuntimeWarning: invalid value encountered in true_divide\n"
     ]
    }
   ],
   "source": [
    "# flaire prediction\n",
    "flaire1 = predictions(efficientB0_flaire, test_flair, test_df_flair)\n",
    "flaire2 = predictions(efficientB1_flaire, test_flair, test_df_flair)\n",
    "flaire3 = predictions(efficientB2_flaire, test_flair, test_df_flair)\n",
    "\n",
    "# tw1 prediction\n",
    "t1w1 = predictions(efficientB0_t1w, test_t1w, test_df_t1w)\n",
    "t1w2 = predictions(efficientB1_t1w, test_t1w, test_df_t1w)\n",
    "t1w3 = predictions(efficientB2_t1w, test_t1w, test_df_t1w)\n",
    "\n",
    "# tw1ce prediction\n",
    "t1wce1 = predictions(efficientB0_t1wce, test_t1wce, test_df_t1wce)\n",
    "t1wce2 = predictions(efficientB1_t1wce, test_t1wce, test_df_t1wce)\n",
    "t1wce3 = predictions(efficientB2_t1wce, test_t1wce, test_df_t1wce)\n",
    "\n",
    "# tw2 predicton\n",
    "t2w1 = predictions(efficientB0_t2w, test_t2w, test_df_t2w)\n",
    "t2w2 = predictions(efficientB1_t2w, test_t2w, test_df_t2w)\n",
    "t2w3 = predictions(efficientB2_t2w, test_t2w, test_df_t2w)"
   ]
  },
  {
   "cell_type": "code",
   "execution_count": 34,
   "id": "64995716",
   "metadata": {
    "execution": {
     "iopub.execute_input": "2021-10-20T11:37:06.008938Z",
     "iopub.status.busy": "2021-10-20T11:37:06.005801Z",
     "iopub.status.idle": "2021-10-20T11:37:06.011420Z",
     "shell.execute_reply": "2021-10-20T11:37:06.010936Z"
    },
    "papermill": {
     "duration": 0.453078,
     "end_time": "2021-10-20T11:37:06.011563",
     "exception": false,
     "start_time": "2021-10-20T11:37:05.558485",
     "status": "completed"
    },
    "tags": []
   },
   "outputs": [],
   "source": [
    "pred_values.append(flaire1)\n",
    "pred_values.append(flaire2)\n",
    "pred_values.append(flaire3)\n",
    "pred_values.append(t1w1)\n",
    "pred_values.append(t1w2)\n",
    "pred_values.append(t1w3)\n",
    "pred_values.append(t1wce1)\n",
    "pred_values.append(t1wce2)\n",
    "pred_values.append(t1wce3)\n",
    "pred_values.append(t2w1)\n",
    "pred_values.append(t2w2)\n",
    "pred_values.append(t2w3)"
   ]
  },
  {
   "cell_type": "markdown",
   "id": "fa47cac6",
   "metadata": {
    "papermill": {
     "duration": 0.836127,
     "end_time": "2021-10-20T11:37:07.426575",
     "exception": false,
     "start_time": "2021-10-20T11:37:06.590448",
     "status": "completed"
    },
    "tags": []
   },
   "source": [
    "# Submission"
   ]
  },
  {
   "cell_type": "code",
   "execution_count": 35,
   "id": "9bc4cc4b",
   "metadata": {
    "execution": {
     "iopub.execute_input": "2021-10-20T11:37:08.368692Z",
     "iopub.status.busy": "2021-10-20T11:37:08.368100Z",
     "iopub.status.idle": "2021-10-20T11:37:08.408699Z",
     "shell.execute_reply": "2021-10-20T11:37:08.410011Z"
    },
    "papermill": {
     "duration": 0.492098,
     "end_time": "2021-10-20T11:37:08.410270",
     "exception": false,
     "start_time": "2021-10-20T11:37:07.918172",
     "status": "completed"
    },
    "tags": []
   },
   "outputs": [],
   "source": [
    "all_test_preds = np.array(pred_values)\n",
    "sub = pd.read_csv(root_dir+'sample_submission.csv') \n",
    "sub['MGMT_value'] = all_test_preds.mean(0) \n",
    "sub.to_csv(\"submission.csv\", index=False)"
   ]
  }
 ],
 "metadata": {
  "kernelspec": {
   "display_name": "Python 3",
   "language": "python",
   "name": "python3"
  },
  "language_info": {
   "codemirror_mode": {
    "name": "ipython",
    "version": 3
   },
   "file_extension": ".py",
   "mimetype": "text/x-python",
   "name": "python",
   "nbconvert_exporter": "python",
   "pygments_lexer": "ipython3",
   "version": "3.7.10"
  },
  "papermill": {
   "default_parameters": {},
   "duration": 12927.723857,
   "end_time": "2021-10-20T11:37:12.023464",
   "environment_variables": {},
   "exception": null,
   "input_path": "__notebook__.ipynb",
   "output_path": "__notebook__.ipynb",
   "parameters": {},
   "start_time": "2021-10-20T08:01:44.299607",
   "version": "2.3.3"
  }
 },
 "nbformat": 4,
 "nbformat_minor": 5
}
